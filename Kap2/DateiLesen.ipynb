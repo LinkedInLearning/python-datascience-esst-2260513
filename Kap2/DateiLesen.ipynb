{
 "cells": [
  {
   "cell_type": "code",
   "execution_count": 1,
   "metadata": {},
   "outputs": [
    {
     "name": "stdout",
     "output_type": "stream",
     "text": [
      "Black knight: \"Tis but a scratch.\"\n",
      "Arthur: 'A scratch?! Your arm's off!'\n",
      "Black knight: \"No, it isn't.\"\n"
     ]
    }
   ],
   "source": [
    "fobj = open(\"mpython.txt\")\n",
    "for line in fobj:\n",
    "    print(line.rstrip())\n",
    "fobj.close()"
   ]
  },
  {
   "cell_type": "code",
   "execution_count": null,
   "metadata": {},
   "outputs": [],
   "source": []
  }
 ],
 "metadata": {
  "kernelspec": {
   "display_name": "Python 3",
   "language": "python",
   "name": "python3"
  },
  "language_info": {
   "codemirror_mode": {
    "name": "ipython",
    "version": 3
   },
   "file_extension": ".py",
   "mimetype": "text/x-python",
   "name": "python",
   "nbconvert_exporter": "python",
   "pygments_lexer": "ipython3",
   "version": "3.7.4"
  }
 },
 "nbformat": 4,
 "nbformat_minor": 2
}
